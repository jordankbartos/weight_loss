{
 "cells": [
  {
   "cell_type": "code",
   "execution_count": null,
   "id": "0d9c7d47",
   "metadata": {},
   "outputs": [],
   "source": [
    "import pandas as pd\n",
    "pd.set_option(\"display.max_rows\", None)\n",
    "pd.set_option(\"display.max_columns\", None)\n",
    "import datetime\n",
    "from packages.parquet_cached_df import ParquetCachedDF"
   ]
  },
  {
   "cell_type": "code",
   "execution_count": null,
   "id": "ebbdb95f",
   "metadata": {},
   "outputs": [],
   "source": [
    "hr_df = pd.read_csv(\"weight_loss_dfs/Resting Heart Rate (2).csv\")\n",
    "hr_df = hr_df.rename(columns={\"Unnamed: 0\": \"Date\", \"Resting Heart Rate\": \"Resting Heart Rate (bpm)\"})\n",
    "\n",
    "df_path = \"./weight_loss_dfs/jordan_df.pqt\"\n",
    "df_manager = ParquetCachedDF(file_path=df_path)\n",
    "curr_df = df_manager.get_df()"
   ]
  },
  {
   "cell_type": "code",
   "execution_count": null,
   "id": "6146f86a",
   "metadata": {},
   "outputs": [],
   "source": [
    "def get_full_date(date):\n",
    "    dt = datetime.datetime.strptime(date, \"%b %d\")\n",
    "    if dt.month > 8:\n",
    "        year = 2022\n",
    "    else:\n",
    "        year = 2022\n",
    "    dt = datetime.date(year=year, month=dt.month, day=dt.day)\n",
    "    return dt.strftime(\"%Y-%m-%d\")\n",
    "get_full_date(\"Aug 25\")\n",
    "\n",
    "hr_df[\"Date\"] = hr_df[\"Date\"].apply(get_full_date)\n",
    "hr_df = hr_df.set_index(\"Date\")\n",
    "hr_df.index.name = None\n",
    "hr_df"
   ]
  },
  {
   "cell_type": "code",
   "execution_count": null,
   "id": "e81fd877",
   "metadata": {
    "scrolled": false
   },
   "outputs": [],
   "source": [
    "curr_df"
   ]
  },
  {
   "cell_type": "code",
   "execution_count": null,
   "id": "14bb90d6",
   "metadata": {},
   "outputs": [],
   "source": [
    "joined = curr_df.join(hr_df, how=\"outer\", lsuffix=\" curr\", rsuffix=\" hr\")\n",
    "joined"
   ]
  },
  {
   "cell_type": "code",
   "execution_count": null,
   "id": "846c0020",
   "metadata": {
    "scrolled": false
   },
   "outputs": [],
   "source": [
    "import numpy as np\n",
    "#joined = joined[\n",
    "#    (joined[\"Resting Heart Rate (bpm) curr\"] != joined[\"Resting Heart Rate (bpm) hr\"]) &\n",
    "#    ~(np.isnan(joined[\"Resting Heart Rate (bpm) curr\"]) & (np.isnan(joined[\"Resting Heart Rate (bpm) hr\"])))\n",
    "#]\n",
    "joined[[\"Resting Heart Rate (bpm) curr\", \"Resting Heart Rate (bpm) hr\"]]"
   ]
  },
  {
   "cell_type": "code",
   "execution_count": null,
   "id": "66a50728",
   "metadata": {},
   "outputs": [],
   "source": [
    "def get_hr(row):\n",
    "    ret = np.nan\n",
    "    if np.isnan(row[\"Resting Heart Rate (bpm) curr\"]) and np.isnan(row[\"Resting Heart Rate (bpm) hr\"]):\n",
    "        pass\n",
    "    elif np.isnan(row[\"Resting Heart Rate (bpm) curr\"]):\n",
    "        ret = row[\"Resting Heart Rate (bpm) hr\"]\n",
    "    elif np.isnan(row[\"Resting Heart Rate (bpm) hr\"]):\n",
    "        ret = row[\"Resting Heart Rate (bpm) curr\"]\n",
    "    elif row[\"Resting Heart Rate (bpm) curr\"] == row[\"Resting Heart Rate (bpm) hr\"]:\n",
    "        ret = row[\"Resting Heart Rate (bpm) curr\"]\n",
    "        print('aggreed')\n",
    "    else:\n",
    "        ret = row[\"Resting Heart Rate (bpm) hr\"]\n",
    "        #raise ValueError(str(row))\n",
    "    return ret\n",
    "        \n",
    "joined[\"Resting Heart Rate (bpm)\"] = joined.apply(get_hr, axis=1)"
   ]
  },
  {
   "cell_type": "code",
   "execution_count": null,
   "id": "1675529d",
   "metadata": {
    "scrolled": true
   },
   "outputs": [],
   "source": [
    "joined[\"Resting Heart Rate (bpm)\"]"
   ]
  },
  {
   "cell_type": "code",
   "execution_count": null,
   "id": "8a3f5bfd",
   "metadata": {},
   "outputs": [],
   "source": [
    "for col in joined.columns:\n",
    "    if col.endswith(\"curr\") or col.endswith(\"hr\"):\n",
    "        print(col)\n",
    "joined = joined.drop(columns=[\"Resting Heart Rate (bpm) curr\", \"Resting Heart Rate (bpm) hr\"])"
   ]
  },
  {
   "cell_type": "code",
   "execution_count": null,
   "id": "ba119a88",
   "metadata": {},
   "outputs": [],
   "source": [
    "joined.shape"
   ]
  },
  {
   "cell_type": "code",
   "execution_count": null,
   "id": "39fb6c5b",
   "metadata": {},
   "outputs": [],
   "source": [
    "curr_df.shape"
   ]
  },
  {
   "cell_type": "code",
   "execution_count": null,
   "id": "f10b93a9",
   "metadata": {
    "scrolled": true
   },
   "outputs": [],
   "source": [
    "#curr_df.loc[\"2021-08-24\", \"BMI\"] = 1000\n",
    "curr_df.reset_index().merge(joined.reset_index(), how='right', indicator=True).shape"
   ]
  },
  {
   "cell_type": "code",
   "execution_count": null,
   "id": "dc360663",
   "metadata": {},
   "outputs": [],
   "source": [
    "joined.shape"
   ]
  },
  {
   "cell_type": "code",
   "execution_count": null,
   "id": "76c2f679",
   "metadata": {},
   "outputs": [],
   "source": [
    "curr_df.shape"
   ]
  },
  {
   "cell_type": "code",
   "execution_count": null,
   "id": "945b562f",
   "metadata": {},
   "outputs": [],
   "source": [
    "curr_df.sort_index().index"
   ]
  },
  {
   "cell_type": "code",
   "execution_count": null,
   "id": "f5d404e8",
   "metadata": {},
   "outputs": [],
   "source": [
    "joined.sort_index().index"
   ]
  },
  {
   "cell_type": "code",
   "execution_count": null,
   "id": "48e6a730",
   "metadata": {},
   "outputs": [],
   "source": [
    "df_manager.set_df(joined)\n",
    "df_manager.save_df()"
   ]
  },
  {
   "cell_type": "code",
   "execution_count": null,
   "id": "d2a84448",
   "metadata": {},
   "outputs": [],
   "source": [
    "joined[[\"Resting Heart Rate (bpm)\"]]"
   ]
  },
  {
   "cell_type": "code",
   "execution_count": null,
   "id": "5a9f82db",
   "metadata": {},
   "outputs": [],
   "source": []
  }
 ],
 "metadata": {
  "kernelspec": {
   "display_name": "Python 3 (ipykernel)",
   "language": "python",
   "name": "python3"
  },
  "language_info": {
   "codemirror_mode": {
    "name": "ipython",
    "version": 3
   },
   "file_extension": ".py",
   "mimetype": "text/x-python",
   "name": "python",
   "nbconvert_exporter": "python",
   "pygments_lexer": "ipython3",
   "version": "3.9.6"
  }
 },
 "nbformat": 4,
 "nbformat_minor": 5
}
