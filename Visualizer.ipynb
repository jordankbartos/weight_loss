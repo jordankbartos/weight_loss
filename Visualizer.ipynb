{
 "cells": [
  {
   "cell_type": "code",
   "execution_count": null,
   "metadata": {},
   "outputs": [],
   "source": [
    "from plotly import graph_objects as go\n",
    "from plotly.graph_objects import Layout\n",
    "import pandas as pd\n",
    "import datetime"
   ]
  },
  {
   "cell_type": "code",
   "execution_count": null,
   "metadata": {},
   "outputs": [],
   "source": [
    "path = \"./weight_loss_dfs/jordan_df.pqt\"\n",
    "df = pd.read_parquet(path)"
   ]
  },
  {
   "cell_type": "code",
   "execution_count": null,
   "metadata": {},
   "outputs": [],
   "source": [
    "class FigureGenerator():\n",
    "    def __init__(self, df):\n",
    "        self.modes = [\"start_delta\", \"end_delta\"]\n",
    "        self.df = df\n",
    "        self.columns = df.columns\n",
    "        \n",
    "    def create_figure(self, axes, start=None, end=None, mode=None):\n",
    "        df = self.df\n",
    "        \n",
    "        for axis in axes:\n",
    "            if axis not in df.columns:\n",
    "                raise ValueError(\n",
    "                    \"{} is not a column in the dataframe. All axes must be columns in the dataframe.\".format(\n",
    "                        axis\n",
    "                    )\n",
    "                )\n",
    "        \n",
    "        if start is not None:\n",
    "            if not isinstance(start, datetime.date):\n",
    "                raise ValueError(\"start must be an instance of datetime.date\")\n",
    "            else:\n",
    "                df = df[df.index >= str(start)]\n",
    "        else:\n",
    "            start = df.index[0]\n",
    "                \n",
    "        if end is not None:\n",
    "            if not isinstance(end, datetime.date):\n",
    "                raise ValueError(\"end must be an instance of datetime.date\")\n",
    "            else:\n",
    "                df = df[df.index <= str(end)]\n",
    "        else:\n",
    "            end = df.index[-1]\n",
    "            \n",
    "        if mode is not None:\n",
    "            if mode not in self.modes:\n",
    "                raise ValueError(\"{} mode is invalid\".format(mode))\n",
    "        \n",
    "        traces = self.get_traces(df, axes, mode=mode)\n",
    "        fig = go.Figure(\n",
    "            data=traces,\n",
    "        )\n",
    "        \n",
    "        return fig\n",
    "        \n",
    "    def get_traces(self, df, axes, mode):\n",
    "        # get axis range here? leave it up to plotly for now\n",
    "        traces = []\n",
    "        for axis in axes:\n",
    "            axis_df = df.copy()\n",
    "            if mode is not None:\n",
    "                if mode == \"start_delta\":\n",
    "                    axis_df[axis] = axis_df[axis] - axis_df[axis].dropna()[-1]\n",
    "                elif mode == \"end_delta\":\n",
    "                    axis_df[axis] = axis_df[axis] - axis_df[axis].dropna()[0]\n",
    "                else:\n",
    "                    pass\n",
    "            else:\n",
    "                pass\n",
    "            traces.append(\n",
    "                go.Scatter(\n",
    "                    x=axis_df.index,\n",
    "                    y=axis_df[axis],\n",
    "                    name=axis,\n",
    "                    showlegend=True,\n",
    "                    connectgaps=True\n",
    "                )\n",
    "            )\n",
    "        return traces"
   ]
  },
  {
   "cell_type": "code",
   "execution_count": null,
   "metadata": {},
   "outputs": [],
   "source": [
    "fg = FigureGenerator(df = df)"
   ]
  },
  {
   "cell_type": "code",
   "execution_count": null,
   "metadata": {},
   "outputs": [],
   "source": [
    "fg.create_figure(axes=[\"Belly\", \"Chest\", \"Hips\", \"Waist\", \"Bicep\"], mode=\"start_delta\")"
   ]
  },
  {
   "cell_type": "code",
   "execution_count": null,
   "metadata": {},
   "outputs": [],
   "source": []
  },
  {
   "cell_type": "code",
   "execution_count": null,
   "metadata": {},
   "outputs": [],
   "source": []
  },
  {
   "cell_type": "code",
   "execution_count": null,
   "metadata": {},
   "outputs": [],
   "source": []
  },
  {
   "cell_type": "code",
   "execution_count": null,
   "metadata": {},
   "outputs": [],
   "source": []
  },
  {
   "cell_type": "code",
   "execution_count": null,
   "metadata": {},
   "outputs": [],
   "source": []
  },
  {
   "cell_type": "code",
   "execution_count": null,
   "metadata": {},
   "outputs": [],
   "source": []
  },
  {
   "cell_type": "code",
   "execution_count": null,
   "metadata": {},
   "outputs": [],
   "source": []
  },
  {
   "cell_type": "code",
   "execution_count": null,
   "metadata": {},
   "outputs": [],
   "source": []
  },
  {
   "cell_type": "code",
   "execution_count": null,
   "metadata": {},
   "outputs": [],
   "source": []
  }
 ],
 "metadata": {
  "kernelspec": {
   "display_name": "Python 3",
   "language": "python",
   "name": "python3"
  },
  "language_info": {
   "codemirror_mode": {
    "name": "ipython",
    "version": 3
   },
   "file_extension": ".py",
   "mimetype": "text/x-python",
   "name": "python",
   "nbconvert_exporter": "python",
   "pygments_lexer": "ipython3",
   "version": "3.6.9"
  }
 },
 "nbformat": 4,
 "nbformat_minor": 4
}
