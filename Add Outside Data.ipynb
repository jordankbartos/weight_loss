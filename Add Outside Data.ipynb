{
 "cells": [
  {
   "cell_type": "code",
   "execution_count": null,
   "id": "998446c8",
   "metadata": {},
   "outputs": [],
   "source": [
    "import pandas as pd\n",
    "pd.set_option(\"display.max_rows\", None)\n",
    "pd.set_option(\"display.max_columns\", None)\n",
    "import numpy as np\n",
    "import re\n",
    "import datetime\n",
    "\n",
    "from packages.parquet_cached_df import ParquetCachedDF"
   ]
  },
  {
   "cell_type": "code",
   "execution_count": null,
   "id": "c474ef57",
   "metadata": {},
   "outputs": [],
   "source": [
    "garmin_df = pd.read_csv(\"./weight_loss_dfs/Weight.csv\")\n",
    "date_re = re.compile(r\"(?: +)?(?P<month>[a-zA-Z]{3}) (?P<day>\\d{1,2}), (?P<year>\\d{4})\")\n",
    "time_re = re.compile(r\"(?P<hour>\\d{1,2}):(?P<minute>\\d{2}) (?P<am_pm>[AP]M)\")"
   ]
  },
  {
   "cell_type": "code",
   "execution_count": null,
   "id": "4f67a927",
   "metadata": {
    "scrolled": true
   },
   "outputs": [],
   "source": [
    "display(garmin_df)"
   ]
  },
  {
   "cell_type": "code",
   "execution_count": null,
   "id": "1ead6499",
   "metadata": {
    "scrolled": false
   },
   "outputs": [],
   "source": [
    "DEBUG = False\n",
    "pertinent_cols = [\"Weight\", \"BMI\", \"Body Fat\", \"Skeletal Muscle Mass\", \"Bone Mass\", \"Body Water\"]\n",
    "\n",
    "clean_funcs = {\n",
    "    \"Weight\": lambda x: float(x.split()[0]),\n",
    "    \"BMI\": lambda x: float(x),\n",
    "    \"Body Fat\": lambda x: float(x.split()[0]), \n",
    "    \"Skeletal Muscle Mass\": lambda x: float(x.split()[0]), \n",
    "    \"Bone Mass\": lambda x: float(x.split()[0]), \n",
    "    \"Body Water\": lambda x: float(x.split()[0]), \n",
    "}\n",
    "\n",
    "row_headers = {\n",
    "    \"Weight\": \"Weight (lb)\",\n",
    "    \"BMI\": \"BMI\",\n",
    "    \"Body Fat\": \"Body Fat (%)\",\n",
    "    \"Skeletal Muscle Mass\": \"Skeletal Muscle Mass (lb)\",\n",
    "    \"Bone Mass\": \"Bone Mass (lb)\",\n",
    "    \"Body Water\": \"Body Water (%)\",\n",
    "}\n",
    "\n",
    "\n",
    "cleaned = {row_headers[col]: [] for col in pertinent_cols}\n",
    "cleaned[\"date\"] = []\n",
    "date = None\n",
    "\n",
    "def add_row(di, row, date, replace_last=False):\n",
    "    if DEBUG:\n",
    "        print(\"-------------------\")\n",
    "        print(\"di:\", di)\n",
    "        print(\"row:\", row)\n",
    "        print(\"date:\", date)\n",
    "        print(\"replace_last:\", replace_last)\n",
    "    \n",
    "    global row_headers, clean_funcs, pertinent_cols\n",
    "    \n",
    "    if replace_last:\n",
    "        \n",
    "        assert date == di[\"date\"][-1], \"invalid date for replace\"\n",
    "        \n",
    "        for col in pertinent_cols:\n",
    "            if row[col] == \"--\":\n",
    "                pass#di[row_headers[col]] = np.nan\n",
    "            else:\n",
    "                di[row_headers[col]][-1] = clean_funcs[col](row[col])\n",
    "    else:\n",
    "        cleaned[\"date\"].append(date)\n",
    "\n",
    "        for col in pertinent_cols:\n",
    "            if row[col] == \"--\":\n",
    "                di[row_headers[col]].append(np.nan)\n",
    "            else:\n",
    "                di[row_headers[col]].append(clean_funcs[col](row[col]))\n",
    "\n",
    "for i, row in garmin_df.iterrows():\n",
    "    date_match = date_re.match(row[\"Time\"])\n",
    "    time_match = time_re.match(row[\"Time\"])\n",
    "    if date_match:\n",
    "        \n",
    "        _d = date_match.groupdict()\n",
    "        \n",
    "        date = datetime.datetime.strptime(\n",
    "            f\"{_d['year']}-{_d['month']}-{_d['day']}\",\n",
    "            \"%Y-%b-%d\"\n",
    "        ).strftime(\"%Y-%m-%d\")\n",
    "        \n",
    "    elif time_match:\n",
    "        assert date, \"no date!?\"\n",
    "        if cleaned[\"date\"]: \n",
    "            if date == cleaned[\"date\"][-1]:\n",
    "                add_row(di=cleaned, row=row, date=date, replace_last=True)\n",
    "            else:\n",
    "                add_row(di=cleaned, row=row, date=date, replace_last=False)\n",
    "        else:\n",
    "            add_row(di=cleaned, row=row, date=date, replace_last=False)\n",
    "    else:\n",
    "        raise ValueError(f\"row after {date} doesn't match!\")\n",
    " "
   ]
  },
  {
   "cell_type": "code",
   "execution_count": null,
   "id": "e3b18954",
   "metadata": {
    "scrolled": true
   },
   "outputs": [],
   "source": [
    "df_garmin_cleaned = pd.DataFrame(cleaned).set_index(\"date\")"
   ]
  },
  {
   "cell_type": "code",
   "execution_count": null,
   "id": "9f266d12",
   "metadata": {},
   "outputs": [],
   "source": [
    "df_path = \"./weight_loss_dfs/jordan_df_add_garmin.pqt\"\n",
    "df_manager = ParquetCachedDF(file_path=df_path)"
   ]
  },
  {
   "cell_type": "code",
   "execution_count": null,
   "id": "7b357880",
   "metadata": {},
   "outputs": [],
   "source": [
    "df_personal = df_manager.get_df()\n",
    "display(df_personal)"
   ]
  },
  {
   "cell_type": "code",
   "execution_count": null,
   "id": "a3f6abb0",
   "metadata": {},
   "outputs": [],
   "source": [
    "print(df_personal.shape)\n",
    "print(df_garmin_cleaned.shape)"
   ]
  },
  {
   "cell_type": "code",
   "execution_count": null,
   "id": "58364f74",
   "metadata": {},
   "outputs": [],
   "source": [
    "df_merged = df_personal.merge(df_garmin_cleaned, how=\"outer\", suffixes=(\" MINE\", \" GARMIN\"), left_index=True, right_index=True)\n",
    "df_merged.columns"
   ]
  },
  {
   "cell_type": "code",
   "execution_count": null,
   "id": "58609c58",
   "metadata": {},
   "outputs": [],
   "source": [
    "mine_re = re.compile(r\"(?P<col>.*) MINE$\")\n",
    "garmin_re = re.compile(r\".*GARMIN$\")\n",
    "keep_cols = []\n",
    "cols = df_merged.columns\n",
    "print(cols)\n",
    "for col in cols:\n",
    "    if mine_re.match(col):\n",
    "        column_header = mine_re.match(col).groupdict()[\"col\"]\n",
    "        print(column_header)\n",
    "        df_merged[column_header] = df_merged[f\"{column_header} GARMIN\"]\n",
    "        keep_cols.append(column_header)\n",
    "    elif garmin_re.match(col):\n",
    "        print(\"garmin\")\n",
    "        pass\n",
    "    else:\n",
    "        keep_cols.append(col)\n",
    "print(keep_cols)\n",
    "#\n",
    "#df_merged[\n",
    "#    (df_merged[\"Weight (lb) MINE\"] != df_merged[\"Weight (lb) GARMIN\"])\n",
    "#    | (df_merged[\"Body Fat (%) MINE\"] != df_merged[\"Body Fat (%) GARMIN\"])\n",
    "#    | (df_merged[\"BMI MINE\"] != df_merged[\"BMI GARMIN\"])\n",
    "#    | (df_merged[\"Skeletal Muscle Mass (lb) MINE\"] != df_merged[\"Skeletal Muscle Mass (lb) GARMIN\"])\n",
    "#    | (df_merged[\"Bone Mass (lb) MINE\"] != df_merged[\"Bone Mass (lb) GARMIN\"])\n",
    "#    | (df_merged[\"Body Water (%) MINE\"] != df_merged[\"Body Water (%) GARMIN\"])\n",
    "#    \n",
    "#][[\n",
    "#    \"Weight (lb) MINE\", \"BMI MINE\", \"Body Fat (%) MINE\", \"Skeletal Muscle Mass (lb) MINE\", \"Bone Mass (lb) MINE\",\"Body Water (%) MINE\",\n",
    "#    \"Weight (lb) GARMIN\", \"BMI GARMIN\", \"Body Fat (%) GARMIN\",\"Skeletal Muscle Mass (lb) GARMIN\", \"Bone Mass (lb) GARMIN\",\"Body Water (%) GARMIN\",\n",
    "#]]"
   ]
  },
  {
   "cell_type": "code",
   "execution_count": null,
   "id": "8ec62fb6",
   "metadata": {
    "scrolled": false
   },
   "outputs": [],
   "source": [
    "display(df_merged[keep_cols])"
   ]
  },
  {
   "cell_type": "code",
   "execution_count": null,
   "id": "d42fe1cc",
   "metadata": {},
   "outputs": [],
   "source": [
    "df = df_merged[\n",
    "    [\n",
    "        'Weight (lb)',\n",
    "        'Body Fat (%)',\n",
    "        'BMI',\n",
    "        'Skeletal Muscle Mass (lb)',\n",
    "        'Bone Mass (lb)',\n",
    "        'Body Water (%)',\n",
    "        'Waist (in)',\n",
    "        'Belly (in)',\n",
    "        'Hips (in)',\n",
    "        'Chest (in)',\n",
    "        'Bicep (in)',\n",
    "        'Thigh (in)',\n",
    "        'Calf (in)',\n",
    "        'Target Calories (kcal)',\n",
    "        'Consumed Calories (kcal)',\n",
    "        'Active Calories (kcal)',\n",
    "        'Resting Heart Rate (bpm)',\n",
    "        'Workout',\n",
    "        'Cardio',\n",
    "        'Stretch',\n",
    "        'Meditate',\n",
    "        'Mile Time (min)',\n",
    "        'Mode'\n",
    "    ] \n",
    "]"
   ]
  },
  {
   "cell_type": "code",
   "execution_count": null,
   "id": "93efd8c7",
   "metadata": {
    "scrolled": false
   },
   "outputs": [],
   "source": [
    "df = df.sort_index(ascending=False)\n",
    "df[\"Mode\"] = \"Cutting\""
   ]
  },
  {
   "cell_type": "code",
   "execution_count": null,
   "id": "bf461e58",
   "metadata": {},
   "outputs": [],
   "source": [
    "df_path = \"./weight_loss_dfs/jordan_df.pqt\"\n",
    "df_manager.set_df(df)\n",
    "df_manager.save_df(file_path=df_path)\n"
   ]
  },
  {
   "cell_type": "code",
   "execution_count": null,
   "id": "547ac2be",
   "metadata": {},
   "outputs": [],
   "source": []
  }
 ],
 "metadata": {
  "kernelspec": {
   "display_name": "Python 3 (ipykernel)",
   "language": "python",
   "name": "python3"
  },
  "language_info": {
   "codemirror_mode": {
    "name": "ipython",
    "version": 3
   },
   "file_extension": ".py",
   "mimetype": "text/x-python",
   "name": "python",
   "nbconvert_exporter": "python",
   "pygments_lexer": "ipython3",
   "version": "3.9.6"
  }
 },
 "nbformat": 4,
 "nbformat_minor": 5
}
